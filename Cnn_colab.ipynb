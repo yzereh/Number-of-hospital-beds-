{
  "nbformat": 4,
  "nbformat_minor": 0,
  "metadata": {
    "colab": {
      "name": "Cnn-colab.ipynb",
      "provenance": [],
      "collapsed_sections": []
    },
    "kernelspec": {
      "name": "python3",
      "display_name": "Python 3"
    }
  },
  "cells": [
    {
      "cell_type": "code",
      "metadata": {
        "id": "6wugaJA__YJu",
        "colab_type": "code",
        "colab": {}
      },
      "source": [
        "import numpy as np \n",
        "import pandas as pd \n",
        "import matplotlib.pyplot as plt\n",
        "import tensorflow as tf\n",
        "from tensorflow import keras\n",
        "from sklearn.utils import shuffle\n",
        "import h5py"
      ],
      "execution_count": 1,
      "outputs": []
    },
    {
      "cell_type": "code",
      "metadata": {
        "id": "Nz5f1jiKB_x_",
        "colab_type": "code",
        "colab": {}
      },
      "source": [
        "from google.colab import drive\n",
        "drive.mount('/content/drive')"
      ],
      "execution_count": null,
      "outputs": []
    },
    {
      "cell_type": "code",
      "metadata": {
        "id": "VXZaCl5pC9xk",
        "colab_type": "code",
        "colab": {}
      },
      "source": [
        "train=h5py.File('/content/drive/My Drive/Colab Notebooks/X_train.h5','r')"
      ],
      "execution_count": 5,
      "outputs": []
    },
    {
      "cell_type": "code",
      "metadata": {
        "id": "AghEoH_oAAuF",
        "colab_type": "code",
        "colab": {}
      },
      "source": [
        "#train = h5py.File('X_train.h5', 'r')\n",
        "X_train = train.get('dataset_1')\n"
      ],
      "execution_count": 9,
      "outputs": []
    },
    {
      "cell_type": "code",
      "metadata": {
        "id": "QpGognFJD3Js",
        "colab_type": "code",
        "colab": {}
      },
      "source": [
        "labs = h5py.File('/content/drive/My Drive/Colab Notebooks/labels_train.h5', 'r')"
      ],
      "execution_count": 7,
      "outputs": []
    },
    {
      "cell_type": "code",
      "metadata": {
        "id": "lqZ33xoxANZO",
        "colab_type": "code",
        "colab": {}
      },
      "source": [
        "#labs = h5py.File('labels_train.h5', 'r')\n",
        "y_train=labs.get('dataset_1')"
      ],
      "execution_count": 8,
      "outputs": []
    },
    {
      "cell_type": "code",
      "metadata": {
        "id": "jHy9tcRnASwN",
        "colab_type": "code",
        "colab": {}
      },
      "source": [
        "X_train=np.array(X_train)\n",
        "y_train=np.array(y_train)"
      ],
      "execution_count": 10,
      "outputs": []
    },
    {
      "cell_type": "code",
      "metadata": {
        "id": "gVqloG1NAWoU",
        "colab_type": "code",
        "colab": {}
      },
      "source": [
        "X_train=X_train/255\n",
        "X_train, y_train= shuffle(X_train, y_train)"
      ],
      "execution_count": 11,
      "outputs": []
    },
    {
      "cell_type": "code",
      "metadata": {
        "id": "GwWhX6zGAcWj",
        "colab_type": "code",
        "colab": {}
      },
      "source": [
        "model = keras.models.Sequential([\n",
        "    #keras.layers.Dropout(0.2),\n",
        "    keras.layers.Conv2D(filters=200, kernel_size=3, activation='relu',strides=1,input_shape=(30,30,3)),\n",
        "    #keras.layers.MaxPool2D(pool_size=2,strides=2),\n",
        "    #keras.layers.Conv2D(filters=100, kernel_size=3, activation='relu',strides=1),\n",
        "    #keras.layers.Conv2D(filters=100, kernel_size=3, activation='relu',strides=1),\n",
        "    keras.layers.Flatten(),\n",
        "    #keras.layers.Dropout(0.5),\n",
        "    keras.layers.Dense(128, activation=tf.nn.relu),\n",
        "    #keras.layers.Dropout(0.5),\n",
        "    keras.layers.Dense(43, activation='softmax')\n",
        "])"
      ],
      "execution_count": 12,
      "outputs": []
    },
    {
      "cell_type": "code",
      "metadata": {
        "id": "Frj2XXKUAhmU",
        "colab_type": "code",
        "colab": {}
      },
      "source": [
        "model.compile(optimizer=tf.compat.v1.train.AdamOptimizer(), \n",
        "              loss='sparse_categorical_crossentropy',\n",
        "              metrics=['accuracy'])\n"
      ],
      "execution_count": 13,
      "outputs": []
    },
    {
      "cell_type": "code",
      "metadata": {
        "id": "tK3aAxRjA0ff",
        "colab_type": "code",
        "colab": {}
      },
      "source": [
        "c=np.random.choice(39209,5000,replace=False)\n",
        "model.fit(X_train[c,:],y_train[c], batch_size=50,epochs=5,verbose=2,validation_split=0.1)\n"
      ],
      "execution_count": null,
      "outputs": []
    },
    {
      "cell_type": "code",
      "metadata": {
        "id": "2MdAJVDDEu-T",
        "colab_type": "code",
        "colab": {}
      },
      "source": [
        "test=h5py.File('/content/drive/My Drive/Colab Notebooks/X_test.h5','r')"
      ],
      "execution_count": 17,
      "outputs": []
    },
    {
      "cell_type": "code",
      "metadata": {
        "id": "58ulYz2sBB1E",
        "colab_type": "code",
        "colab": {}
      },
      "source": [
        "#test = h5py.File('X_test.h5', 'r')\n",
        "X_test = test.get('dataset_1')"
      ],
      "execution_count": 19,
      "outputs": []
    },
    {
      "cell_type": "code",
      "metadata": {
        "id": "pXjWi7M5FTNZ",
        "colab_type": "code",
        "colab": {}
      },
      "source": [
        "labs_test = h5py.File('/content/drive/My Drive/Colab Notebooks/labels_test.h5', 'r')"
      ],
      "execution_count": 20,
      "outputs": []
    },
    {
      "cell_type": "code",
      "metadata": {
        "id": "MvmqNK4fBmxP",
        "colab_type": "code",
        "colab": {}
      },
      "source": [
        "#labs_test = h5py.File('/labels_test.h5', 'r')\n",
        "y_test=labs_test.get('dataset_1')"
      ],
      "execution_count": 21,
      "outputs": []
    },
    {
      "cell_type": "code",
      "metadata": {
        "id": "LXDiJev_Bqat",
        "colab_type": "code",
        "colab": {}
      },
      "source": [
        "X_test=np.array(X_test)\n",
        "X_test=X_test/255\n",
        "y_test=np.array(y_test)"
      ],
      "execution_count": 22,
      "outputs": []
    },
    {
      "cell_type": "code",
      "metadata": {
        "id": "F-1SSulFBv1r",
        "colab_type": "code",
        "colab": {}
      },
      "source": [
        "model.evaluate(X_test,y_test,verbose=2)\n"
      ],
      "execution_count": null,
      "outputs": []
    },
    {
      "cell_type": "code",
      "metadata": {
        "id": "jrrjB_LKB0NL",
        "colab_type": "code",
        "colab": {}
      },
      "source": [
        "test.close()\n",
        "labs_test.close()\n",
        "train.close()\n",
        "labs.close()"
      ],
      "execution_count": 24,
      "outputs": []
    }
  ]
}